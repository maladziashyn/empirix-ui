{
 "cells": [
  {
   "cell_type": "markdown",
   "id": "55c6038a-3a95-441c-aa45-7e0c36c50a33",
   "metadata": {},
   "source": [
    "# Show properties of GTK and Adwaita objects"
   ]
  },
  {
   "cell_type": "code",
   "execution_count": null,
   "id": "0c4c98bf-f347-4cfc-ab93-16d6f79ba002",
   "metadata": {},
   "outputs": [],
   "source": [
    "import gi\n",
    "gi.require_version(\"Gtk\", \"4.0\")\n",
    "gi.require_version(\"Adw\", \"1\")\n",
    "\n",
    "from gi.repository import Adw, Gio, Gtk, GObject"
   ]
  },
  {
   "cell_type": "code",
   "execution_count": null,
   "id": "0225c231-da42-42f5-a3f7-85bfcdb6437d",
   "metadata": {},
   "outputs": [],
   "source": [
    "# w = Gio.ListStore()\n",
    "# w = Gtk.ColumnViewColumn()\n",
    "# w = Gtk.SignalListItemFactory()\n",
    "# w = Gtk.ColumnView()\n",
    "# w = Gtk.Box()\n",
    "# w = Gtk.ListBox()\n",
    "# w = Gtk.Button()\n",
    "# w = Gtk.ScrolledWindow()\n",
    "# w = Gtk.Adjustment()\n",
    "# w = Gtk.Separator()\n",
    "# w = Gtk.ToggleButton()\n",
    "# w = Gtk.StringObject()\n",
    "\n",
    "# w = Adw.ComboRow()\n",
    "# w = Adw.ViewStack()\n",
    "# w = Adw.Clamp()\n",
    "# w = Adw.PreferencesGroup()\n",
    "w = Adw.EntryRow()\n",
    "# w = Adw.SpinRow()\n",
    "\n",
    "print(f\"{len(dir(w.props))} PROPS\\n{dir(w.props)}\")\n",
    "prop_meth = [m for m in dir(w) if not m.startswith(\"_\")]\n",
    "print(f\"\\n{len(prop_meth)} Properties and Methods\\n{prop_meth}\")"
   ]
  },
  {
   "cell_type": "code",
   "execution_count": null,
   "id": "835d25d1-d131-4a2d-9df5-85f60861f11c",
   "metadata": {},
   "outputs": [],
   "source": [
    "print(dir(w))"
   ]
  },
  {
   "cell_type": "code",
   "execution_count": null,
   "id": "322ee8b6-5ecb-4853-8adf-f6cc13964464",
   "metadata": {},
   "outputs": [],
   "source": []
  }
 ],
 "metadata": {
  "kernelspec": {
   "display_name": "empirix-ui-jnb",
   "language": "python",
   "name": "empirix-ui-jnb"
  },
  "language_info": {
   "codemirror_mode": {
    "name": "ipython",
    "version": 3
   },
   "file_extension": ".py",
   "mimetype": "text/x-python",
   "name": "python",
   "nbconvert_exporter": "python",
   "pygments_lexer": "ipython3",
   "version": "3.12.3"
  }
 },
 "nbformat": 4,
 "nbformat_minor": 5
}
